{
 "cells": [
  {
   "cell_type": "code",
   "execution_count": 1,
   "id": "8bfdcbbf-8428-44d3-949c-18fee341394e",
   "metadata": {},
   "outputs": [],
   "source": [
    "import torch\n",
    "import torch.linalg as tla\n",
    "import torch.autograd\n",
    "import numpy as np\n",
    "import numpy.linalg as la\n",
    "import matplotlib.pyplot as plt\n",
    "import common"
   ]
  },
  {
   "cell_type": "code",
   "execution_count": 2,
   "id": "6483b988-68e7-43db-88f6-f4a95ccbf5c5",
   "metadata": {},
   "outputs": [],
   "source": [
    "N = 7\n",
    "A_np = np.eye(N) * 2 - np.eye(N, k=-1) - np.eye(N, k=1)\n",
    "A = torch.Tensor(A_np)\n",
    "A.requires_grad = True"
   ]
  },
  {
   "cell_type": "code",
   "execution_count": 3,
   "id": "8abacc07-106c-4ab2-aa65-f9084e528d89",
   "metadata": {},
   "outputs": [
    {
     "data": {
      "text/plain": [
       "tensor([0., 0., 0., 1., 0., 0., 0.], requires_grad=True)"
      ]
     },
     "execution_count": 3,
     "metadata": {},
     "output_type": "execute_result"
    }
   ],
   "source": [
    "b_np = np.zeros(N)\n",
    "b_np[N//2] = 1.\n",
    "b = torch.Tensor(b_np)\n",
    "b.requires_grad = True\n",
    "b"
   ]
  },
  {
   "cell_type": "code",
   "execution_count": 4,
   "id": "33a67ba5-33b1-43b7-8071-19ead9ce58dd",
   "metadata": {},
   "outputs": [
    {
     "data": {
      "text/plain": [
       "[<matplotlib.lines.Line2D at 0x7f1b3dcc5a50>]"
      ]
     },
     "execution_count": 4,
     "metadata": {},
     "output_type": "execute_result"
    },
    {
     "data": {
      "image/png": "[encoded data removed]",
      "text/plain": [
       "<Figure size 432x288 with 1 Axes>"
      ]
     },
     "metadata": {
      "needs_background": "light"
     },
     "output_type": "display_data"
    }
   ],
   "source": [
    "plt.plot(b_np)\n",
    "plt.plot(la.solve(A_np, b_np))"
   ]
  },
  {
   "cell_type": "code",
   "execution_count": 5,
   "id": "a73b3092-08d2-4d47-a6ad-b36e6d5c7fdb",
   "metadata": {},
   "outputs": [],
   "source": [
    "def scale_row(N, i, alpha):\n",
    "    d = torch.ones(N)\n",
    "    d[i] = alpha\n",
    "    return torch.diag(d)"
   ]
  },
  {
   "cell_type": "code",
   "execution_count": 6,
   "id": "7eecaee2-9410-4935-a2b8-d3e0871e3a2b",
   "metadata": {},
   "outputs": [],
   "source": [
    "def row_op(N, i, j, alpha):\n",
    "    Z = torch.eye(N)\n",
    "    Z[i,j] = alpha\n",
    "    return Z"
   ]
  },
  {
   "cell_type": "code",
   "execution_count": 7,
   "id": "efd818d3-e6fe-48b8-92b3-14f2bfcbbb16",
   "metadata": {},
   "outputs": [],
   "source": [
    "# elementary vector\n",
    "def e(N, i):\n",
    "    z = torch.zeros(N)\n",
    "    z[i] = 1.\n",
    "    return z"
   ]
  },
  {
   "cell_type": "code",
   "execution_count": 8,
   "id": "7207eb48-c979-4090-b2b4-ddf6c0184f6c",
   "metadata": {},
   "outputs": [],
   "source": [
    "def lu_factor(A):\n",
    "    N = A.shape[0]\n",
    "    \n",
    "    U = A\n",
    "    L = torch.eye(N)\n",
    "    \n",
    "    for j in range(N-1):\n",
    "        for i in range(j+1, N):\n",
    "            if U[i,j] == 0:\n",
    "                continue\n",
    "\n",
    "            R = row_op(N, i, j, -U[i,j] / U[j,j])\n",
    "            Rinv = row_op(N, i, j, U[i, j]/U[j,j])\n",
    "            U = R@U\n",
    "            L = L@Rinv\n",
    "    return L, U"
   ]
  },
  {
   "cell_type": "code",
   "execution_count": 9,
   "id": "ff7eda53-5dc9-4188-adfc-e2316bca2800",
   "metadata": {},
   "outputs": [],
   "source": [
    "L1, U1 = lu_factor(A)"
   ]
  },
  {
   "cell_type": "code",
   "execution_count": 10,
   "id": "34f7cbd7-f854-4683-a93a-1a9738276504",
   "metadata": {},
   "outputs": [
    {
     "data": {
      "text/plain": [
       "tensor(True)"
      ]
     },
     "execution_count": 10,
     "metadata": {},
     "output_type": "execute_result"
    }
   ],
   "source": [
    "#LU = A\n",
    "torch.all(torch.isclose(L1@U1, A))"
   ]
  },
  {
   "cell_type": "code",
   "execution_count": 11,
   "id": "8b5601b4-85da-4eb4-b9b1-0d74705191ad",
   "metadata": {},
   "outputs": [],
   "source": [
    "def lower_tri_solve(L, b, unit_diag=True):\n",
    "    x = b\n",
    "    n = len(b)\n",
    "    for i in range(n):\n",
    "        for j in range(0, i):\n",
    "            if L[i,j] != 0:\n",
    "                x = x - e(n, i) * L[i, j] * x[j]\n",
    "        if not unit_diag:\n",
    "            x = scale_row(n, i, 1/L[i, i]) @ x\n",
    "    return x\n",
    "\n",
    "def upper_tri_solve(U, b, unit_diag=False):\n",
    "    x = b\n",
    "    n = len(b)\n",
    "    for i in range(n-1, -1, -1):\n",
    "        for j in range(i+1, n):\n",
    "            if U[i,j] != 0:\n",
    "                x = x - e(n, i) * U[i,j] * x[j]\n",
    "        if not unit_diag:\n",
    "            x = scale_row(n, i, 1/U[i, i]) @ x\n",
    "    return x\n",
    "\n",
    "def lu_solve(L, U, b):\n",
    "    return upper_tri_solve(U, lower_tri_solve(L, b))"
   ]
  },
  {
   "cell_type": "code",
   "execution_count": 12,
   "id": "414569d6-7f7a-4745-a967-cbef77afadaf",
   "metadata": {},
   "outputs": [
    {
     "data": {
      "text/plain": [
       "tensor([0.5000, 1.0000, 1.5000, 2.0000, 1.5000, 1.0000, 0.5000],\n",
       "       grad_fn=<MvBackward0>)"
      ]
     },
     "execution_count": 12,
     "metadata": {},
     "output_type": "execute_result"
    }
   ],
   "source": [
    "x1 = lu_solve(L1, U1, b)\n",
    "x1"
   ]
  },
  {
   "cell_type": "code",
   "execution_count": 13,
   "id": "716a6c5d-58ff-43ab-a668-333ece0e1855",
   "metadata": {},
   "outputs": [
    {
     "name": "stdout",
     "output_type": "stream",
     "text": [
      "tensor(True)\n",
      "tensor([0.5000, 1.0000, 1.5000, 2.0000, 1.5000, 1.0000, 0.5000],\n",
      "       grad_fn=<ScaleVecPrimitiveBackward>)\n"
     ]
    }
   ],
   "source": [
    "L2, U2 = common.lu_factor(A)\n",
    "print(torch.all(torch.isclose(L2@U2, A)))\n",
    "x2 = common.lu_solve(L2, U2, b)\n",
    "print(x2)"
   ]
  },
  {
   "cell_type": "code",
   "execution_count": 14,
   "id": "832088d9-4537-4104-a371-66bb9a23ba1b",
   "metadata": {},
   "outputs": [
    {
     "data": {
      "text/plain": [
       "tensor([[ -2.,  -4.,  -4.,  -5.,  -3.,  -1.,  -0.],\n",
       "        [ -3.,  -6.,  -9., -10.,  -6.,  -3.,  -1.],\n",
       "        [  0.,  -8., -11., -15.,  -9.,  -4.,  -1.],\n",
       "        [  0.,   0., -12., -16., -12.,  -6.,  -2.],\n",
       "        [  0.,   0.,   0., -15., -11.,  -7.,  -2.],\n",
       "        [  0.,   0.,   0.,   0.,  -9.,  -6.,  -3.],\n",
       "        [  0.,   0.,   0.,   0.,   0.,  -3.,  -2.]])"
      ]
     },
     "execution_count": 14,
     "metadata": {},
     "output_type": "execute_result"
    }
   ],
   "source": [
    "torch.round(torch.autograd.grad(x1.sum(), A, retain_graph=True)[0])"
   ]
  },
  {
   "cell_type": "code",
   "execution_count": 15,
   "id": "5b4627a4-f5e2-4d04-87bd-81a65737f7df",
   "metadata": {},
   "outputs": [
    {
     "data": {
      "text/plain": [
       "tensor([[ -2.,  -4.,  -4.,  -5.,  -3.,  -1.,  -0.],\n",
       "        [ -3.,  -6.,  -9., -10.,  -6.,  -3.,  -1.],\n",
       "        [  0.,  -8., -11., -15.,  -9.,  -4.,  -1.],\n",
       "        [  0.,   0., -12., -16., -12.,  -6.,  -2.],\n",
       "        [  0.,   0.,   0., -15., -11.,  -7.,  -2.],\n",
       "        [  0.,   0.,   0.,   0.,  -9.,  -6.,  -3.],\n",
       "        [  0.,   0.,   0.,   0.,   0.,  -3.,  -2.]])"
      ]
     },
     "execution_count": 15,
     "metadata": {},
     "output_type": "execute_result"
    }
   ],
   "source": [
    "torch.round(torch.autograd.grad(x2.sum(), A, retain_graph=True)[0])"
   ]
  },
  {
   "cell_type": "code",
   "execution_count": 16,
   "id": "8d9204b1-7084-49b1-bce5-0687a5fb5b3c",
   "metadata": {},
   "outputs": [
    {
     "data": {
      "text/plain": [
       "tensor([[ -2.,  -4.,  -5.,  -7.,  -5.,  -3.,  -2.],\n",
       "        [ -3.,  -6.,  -9., -12.,  -9.,  -6.,  -3.],\n",
       "        [ -4.,  -8., -11., -15., -11.,  -7.,  -4.],\n",
       "        [ -4.,  -8., -12., -16., -12.,  -8.,  -4.],\n",
       "        [ -4.,  -8., -11., -15., -11.,  -7.,  -4.],\n",
       "        [ -3.,  -6.,  -9., -12.,  -9.,  -6.,  -3.],\n",
       "        [ -2.,  -4.,  -5.,  -7.,  -5.,  -3.,  -2.]])"
      ]
     },
     "execution_count": 16,
     "metadata": {},
     "output_type": "execute_result"
    }
   ],
   "source": [
    "torch.round(torch.autograd.grad(tla.solve(A, b).sum(), A, retain_graph=True)[0])"
   ]
  },
  {
   "cell_type": "code",
   "execution_count": 17,
   "id": "39ebbd9a-6db0-4f19-bbd5-36aba45504fb",
   "metadata": {},
   "outputs": [
    {
     "data": {
      "text/plain": [
       "tensor([[ -2.,  -4.,  -5.,  -7.,  -5.,  -3.,  -2.],\n",
       "        [ -3.,  -6.,  -9., -12.,  -9.,  -6.,  -3.],\n",
       "        [ -4.,  -8., -11., -15., -11.,  -7.,  -4.],\n",
       "        [ -4.,  -8., -12., -16., -12.,  -8.,  -4.],\n",
       "        [ -4.,  -7., -11., -15., -11.,  -7.,  -4.],\n",
       "        [ -3.,  -6.,  -9., -12.,  -9.,  -6.,  -3.],\n",
       "        [ -2.,  -4.,  -5.,  -7.,  -5.,  -4.,  -2.]], grad_fn=<RoundBackward0>)"
      ]
     },
     "execution_count": 17,
     "metadata": {},
     "output_type": "execute_result"
    }
   ],
   "source": [
    "torch.round(common.c_fd(lambda A: tla.solve(A, b).sum(), A))"
   ]
  },
  {
   "cell_type": "code",
   "execution_count": 18,
   "id": "410d87f4-86de-4768-a2a3-22e6bd4957fe",
   "metadata": {},
   "outputs": [
    {
     "data": {
      "text/plain": [
       "tensor([4., 6., 8., 8., 7., 6., 3.])"
      ]
     },
     "execution_count": 18,
     "metadata": {},
     "output_type": "execute_result"
    }
   ],
   "source": [
    "torch.round(torch.autograd.grad(x1.sum(), b, retain_graph=True)[0])"
   ]
  },
  {
   "cell_type": "code",
   "execution_count": 19,
   "id": "ba4bcd7c-f8de-4566-b3a5-afe22f2bedf6",
   "metadata": {},
   "outputs": [
    {
     "data": {
      "text/plain": [
       "tensor([4., 6., 8., 8., 7., 6., 3.])"
      ]
     },
     "execution_count": 19,
     "metadata": {},
     "output_type": "execute_result"
    }
   ],
   "source": [
    "torch.round(torch.autograd.grad(x2.sum(), b, retain_graph=True)[0])"
   ]
  },
  {
   "cell_type": "code",
   "execution_count": 20,
   "id": "ced2a29c-16e6-4778-b9e1-6850ad9168e8",
   "metadata": {},
   "outputs": [
    {
     "data": {
      "text/plain": [
       "tensor([4., 6., 7., 8., 7., 6., 3.])"
      ]
     },
     "execution_count": 20,
     "metadata": {},
     "output_type": "execute_result"
    }
   ],
   "source": [
    "torch.round(torch.autograd.grad(tla.solve(A, b).sum(), b, retain_graph=True)[0])"
   ]
  },
  {
   "cell_type": "code",
   "execution_count": 21,
   "id": "caee1f6f-acfc-4056-aea8-eafe30d08a9a",
   "metadata": {},
   "outputs": [
    {
     "data": {
      "text/plain": [
       "tensor([3., 6., 7., 8., 7., 6., 3.])"
      ]
     },
     "execution_count": 21,
     "metadata": {},
     "output_type": "execute_result"
    }
   ],
   "source": [
    "torch.round(common.c_fd(lambda b: tla.solve(A.detach(), b.flatten()).sum(), b.detach()).flatten())"
   ]
  }
 ],
 "metadata": {
  "kernelspec": {
   "display_name": "Python 3 (ipykernel)",
   "language": "python",
   "name": "python3"
  },
  "language_info": {
   "codemirror_mode": {
    "name": "ipython",
    "version": 3
   },
   "file_extension": ".py",
   "mimetype": "text/x-python",
   "name": "python",
   "nbconvert_exporter": "python",
   "pygments_lexer": "ipython3",
   "version": "3.10.6"
  }
 },
 "nbformat": 4,
 "nbformat_minor": 5
}
